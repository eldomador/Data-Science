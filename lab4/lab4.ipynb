{
 "cells": [
  {
   "cell_type": "code",
   "execution_count": 71,
   "metadata": {},
   "outputs": [],
   "source": [
    "from openpyxl import Workbook\n",
    "wb = Workbook()"
   ]
  },
  {
   "cell_type": "code",
   "execution_count": 72,
   "metadata": {},
   "outputs": [],
   "source": [
    "wb = Workbook()\n",
    "ws1 = wb.create_sheet('Giełda')\n",
    "ws2 = wb.create_sheet('Linki')\n",
    "ws3 = wb.create_sheet('Filmweb')"
   ]
  },
  {
   "cell_type": "code",
   "execution_count": 73,
   "metadata": {},
   "outputs": [],
   "source": [
    "import requests\n",
    "from bs4 import BeautifulSoup\n",
    "from random import choice\n",
    "from string import ascii_lowercase\n",
    "import re"
   ]
  },
  {
   "cell_type": "code",
   "execution_count": 75,
   "metadata": {},
   "outputs": [
    {
     "name": "stdout",
     "output_type": "stream",
     "text": [
      "dla ykj nie znaleźiono odpowiadającego kodu.\n",
      "dla nsa Znaleziono kod podobny: nsa.us\n",
      "dla zru Znaleziono kod podobny: zru20.f\n",
      "nsa.us kusrs:33.8400, zmiana procntowa:(-0.97%),trransakcje:1 544\n",
      "zru20.f kusrs:11.880, zmiana procntowa:(-0.25%),trransakcje:\n"
     ]
    }
   ],
   "source": [
    "def generate_String(y):\n",
    "    \n",
    "    return \"\".join(choice(ascii_lowercase) for i in range(y))\n",
    "codes = [generate_String(3) for _ in range(3)]\n",
    "s = requests.Session()\n",
    "valid_codes = []\n",
    "\n",
    "\n",
    "\n",
    "for code in codes:\n",
    "   \n",
    "    params = {\"s\": code}\n",
    "    response = requests.get(\"http://stooq.pl/q/\", params=params)\n",
    "    soup = BeautifulSoup(response.content, 'html.parser')\n",
    "    if len(soup.body.findAll('span', id='c2')) != 0:\n",
    "        link_content = soup.find('font',id='f16').find('a',href=True)\n",
    "        if link_content.text == 'symbol waloru':\n",
    "            print(\"dla\",code,\"nie znaleźiono odpowiadającego kodu.\")\n",
    "        else:\n",
    "            valid_code = link_content['href'][5:]\n",
    "            valid_codes.append(valid_code)\n",
    "            print(\"dla\",code,f'Znaleziono kod podobny: {valid_code}')\n",
    "    else:\n",
    "        valid_codes.append(code)\n",
    "\n",
    "        \n",
    "ws1.cell(row=1, column=1).value = 'Kod'\n",
    "ws1.cell(row=1, column=2).value = 'Kurs'\n",
    "ws1.cell(row=1, column=3).value = 'Zmiana procentowa'\n",
    "ws1.cell(row=1, column=4).value = 'Transakcje'\n",
    "row = 2\n",
    "\n",
    "\n",
    "for code in valid_codes:\n",
    "    params = {\"s\": code}\n",
    "    response = requests.get(\"http://stooq.pl/q/\", params=params)\n",
    "    soup = BeautifulSoup(response.content, 'html.parser')\n",
    "    price = soup.find(text=\"Kurs\").parent.find(\"span\").text\n",
    "    percent_change = soup.find(text=\"Zmiana\").parent.findAll(\"span\")[1].text\n",
    "    transactions = soup.find(text=\"Transakcje\").parent.find(\"span\").text\n",
    "    print(code,f\"kusrs:{price}, zmiana procntowa:{percent_change},trransakcje:{transactions}\")\n",
    "    ws1.cell(row=row, column=1).value = code\n",
    "    ws1.cell(row=row, column=2).value = price if price else 'Brak danych'\n",
    "    ws1.cell(row=row, column=3).value =  percent_change if percent_change else 'Brak danych'\n",
    "    ws1.cell(row=row, column=4).value =  transactions if transactions else 'Brak danych'\n",
    "    row += 1"
   ]
  },
  {
   "cell_type": "code",
   "execution_count": 76,
   "metadata": {},
   "outputs": [],
   "source": [
    "url = \"https://jbzdy.cc/\"\n",
    "req = requests.get(url)\n",
    "links = set()\n",
    "soup = BeautifulSoup(req.content, 'html.parser')\n",
    "\n",
    "for atag in soup.find_all(\"a\"):\n",
    "    link = atag.get('href')\n",
    "    links.add(link)\n",
    "\n",
    "row = 1\n",
    "for link in links:\n",
    "    ws2.cell(row,column=1).value = link\n",
    "    row +=1"
   ]
  },
  {
   "cell_type": "code",
   "execution_count": 79,
   "metadata": {},
   "outputs": [],
   "source": [
    "import bs4 as bs\n",
    "import urllib.request\n",
    "\n",
    "source_gl = urllib.request.urlopen('https://www.filmweb.pl/Gladiator').read()\n",
    "soup_gl = bs.BeautifulSoup(source_gl,'lxml')\n",
    "\n",
    "filmweb = {}\n",
    "filmweb['premiera:'] = soup_gl.find(\"th\", text=\"premiera:\").find_next_sibling(\"td\").text\n",
    "filmweb['reżyseria:'] = soup_gl.find(\"th\", text=\"reżyseria:\").find_next_sibling(\"td\").text\n",
    "filmweb['boxoffice:']  = soup_gl.find(\"th\", text=\"boxoffice:\").find_next_sibling(\"td\").text \n",
    "filmweb['ocena:'] = soup_gl.find(\"span\", itemprop=\"ratingValue\").text\n",
    "\n",
    "row = 1\n",
    "for key, value in filmweb.items():\n",
    "    ws3.cell(row,column=1).value = key\n",
    "    ws3.cell(row,column=2).value = value\n",
    "    row += 1\n"
   ]
  },
  {
   "cell_type": "code",
   "execution_count": 81,
   "metadata": {},
   "outputs": [],
   "source": [
    "wb.save('lab4.xlsx')"
   ]
  },
  {
   "cell_type": "code",
   "execution_count": null,
   "metadata": {},
   "outputs": [],
   "source": []
  }
 ],
 "metadata": {
  "kernelspec": {
   "display_name": "Python 3",
   "language": "python",
   "name": "python3"
  },
  "language_info": {
   "codemirror_mode": {
    "name": "ipython",
    "version": 3
   },
   "file_extension": ".py",
   "mimetype": "text/x-python",
   "name": "python",
   "nbconvert_exporter": "python",
   "pygments_lexer": "ipython3",
   "version": "3.7.3"
  }
 },
 "nbformat": 4,
 "nbformat_minor": 2
}
