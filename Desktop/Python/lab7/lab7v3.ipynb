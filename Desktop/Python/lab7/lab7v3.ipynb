{
 "cells": [
  {
   "cell_type": "code",
   "execution_count": 2,
   "metadata": {},
   "outputs": [],
   "source": [
    "import numpy as np\n",
    "import pandas as pd"
   ]
  },
  {
   "cell_type": "code",
   "execution_count": 3,
   "metadata": {},
   "outputs": [],
   "source": [
    "def activation_function(x):\n",
    "  if x < 0:\n",
    "    return 0\n",
    "  return 1"
   ]
  },
  {
   "cell_type": "code",
   "execution_count": 4,
   "metadata": {},
   "outputs": [
    {
     "name": "stdout",
     "output_type": "stream",
     "text": [
      "   x1  x2  weight X1  weight x2  weight bias  x1 * weight  x2 * weight  Output\n",
      "0   0   0          1          1         -1.5            0            0       0\n",
      "   x1  x2  weight X1  weight x2  weight bias  x1 * weight  x2 * weight  Output\n",
      "0   0   1          1          1         -1.5            0            1       0\n",
      "   x1  x2  weight X1  weight x2  weight bias  x1 * weight  x2 * weight  Output\n",
      "0   1   0          1          1         -1.5            1            0       0\n",
      "   x1  x2  weight X1  weight x2  weight bias  x1 * weight  x2 * weight  Output\n",
      "0   1   1          1          1         -1.5            1            1       1\n"
     ]
    }
   ],
   "source": [
    "biasAnd = 1 * -1.5\n",
    "inputs = [[0,0], [0,1], [1,0], [1,1]]\n",
    "for input in inputs:\n",
    "    result = activation_function(biasAnd + input[0] + input[1])\n",
    "    info_and = pd.DataFrame(data = {'x1' : input[0], 'x2' : input[1], 'weight X1': 1, \n",
    "                                 'weight x2': 1, 'weight bias': -1.5,'x1 * weight': input[0],\n",
    "                                  'x2 * weight' : input[1], 'Output' : result}, index=[0])\n",
    "    print(info_and)"
   ]
  },
  {
   "cell_type": "code",
   "execution_count": 5,
   "metadata": {},
   "outputs": [
    {
     "name": "stdout",
     "output_type": "stream",
     "text": [
      "   X1  X2  weight X1  weight X2  weight bias  X1 * weight  X2 * weight  output\n",
      "0   0   0          1          1         -0.5            0            0       0\n",
      "   X1  X2  weight X1  weight X2  weight bias  X1 * weight  X2 * weight  output\n",
      "0   0   1          1          1         -0.5            0            1       1\n",
      "   X1  X2  weight X1  weight X2  weight bias  X1 * weight  X2 * weight  output\n",
      "0   1   0          1          1         -0.5            1            0       1\n",
      "   X1  X2  weight X1  weight X2  weight bias  X1 * weight  X2 * weight  output\n",
      "0   1   1          1          1         -0.5            1            1       1\n"
     ]
    }
   ],
   "source": [
    "biasOr = 1 * -0.5\n",
    "for input in inputs:\n",
    "    result =  activation_function(biasOr + input[0] + input[1])\n",
    "    info_or = pd.DataFrame(data = {'X1' : input[0], 'X2' : input[1], 'weight X1': 1, \n",
    "                                 'weight X2': 1, 'weight bias': -0.5,'X1 * weight': input[0],\n",
    "                                  'X2 * weight' : input[1], 'output' : result}, index=[0])\n",
    "    print(info_or)"
   ]
  },
  {
   "cell_type": "code",
   "execution_count": 6,
   "metadata": {},
   "outputs": [
    {
     "name": "stdout",
     "output_type": "stream",
     "text": [
      "   X1  weight X1  weight bias  X1 * weight  output\n",
      "0   0         -2            1            0       1\n",
      "   X1  weight X1  weight bias  X1 * weight  output\n",
      "0   1         -2            1           -2       0\n"
     ]
    }
   ],
   "source": [
    "biasNot = 1\n",
    "input_not = [0,1]\n",
    "for input in input_not:\n",
    "    X1WithWeigth = -2 * input\n",
    "    result = activation_function(biasNot + X1WithWeigth)\n",
    "    info_not = pd.DataFrame(data = {'X1' : input, 'weight X1': -2, \n",
    "                                 'weight bias': 1,'X1 * weight': X1WithWeigth,\n",
    "                                  'output' : result}, index=[0])\n",
    "    print(info_not)"
   ]
  },
  {
   "cell_type": "code",
   "execution_count": 8,
   "metadata": {},
   "outputs": [
    {
     "data": {
      "text/html": [
       "<table border=\"1\" class=\"dataframe\">\n",
       "  <thead>\n",
       "    <tr style=\"text-align: right;\">\n",
       "      <th></th>\n",
       "      <th>X1</th>\n",
       "      <th>X2</th>\n",
       "      <th>weight X1 1 neuron 1 layer</th>\n",
       "      <th>weight X2 1 neuron 1 layer</th>\n",
       "      <th>weight bias 1 neuron 1 layer</th>\n",
       "      <th>weight X1 2 neuron 1 layer</th>\n",
       "      <th>weight X2 2 neuron 1 layer</th>\n",
       "      <th>weight bias 2 neuron 1 layer</th>\n",
       "      <th>X1 * weight 1 neuron</th>\n",
       "      <th>X2 * weight 1 neuron</th>\n",
       "      <th>X1 * weight 2 neuron</th>\n",
       "      <th>X2 * weight 2 neuron</th>\n",
       "      <th>Value function neuron 1</th>\n",
       "      <th>Value funktion neuron 2</th>\n",
       "      <th>weight 3 neuron</th>\n",
       "      <th>weight bias 2 layer</th>\n",
       "      <th>total value (3 neuron)</th>\n",
       "    </tr>\n",
       "  </thead>\n",
       "  <tbody>\n",
       "    <tr>\n",
       "      <th>0</th>\n",
       "      <td>0</td>\n",
       "      <td>0</td>\n",
       "      <td>-1</td>\n",
       "      <td>-1</td>\n",
       "      <td>0.5</td>\n",
       "      <td>-1.5</td>\n",
       "      <td>1</td>\n",
       "      <td>-1.5</td>\n",
       "      <td>0</td>\n",
       "      <td>0</td>\n",
       "      <td>0</td>\n",
       "      <td>0</td>\n",
       "      <td>1</td>\n",
       "      <td>0</td>\n",
       "      <td>both 1</td>\n",
       "      <td>-0.5</td>\n",
       "      <td>1</td>\n",
       "    </tr>\n",
       "  </tbody>\n",
       "</table>"
      ],
      "text/plain": [
       "<IPython.core.display.HTML object>"
      ]
     },
     "metadata": {},
     "output_type": "display_data"
    },
    {
     "data": {
      "text/html": [
       "<table border=\"1\" class=\"dataframe\">\n",
       "  <thead>\n",
       "    <tr style=\"text-align: right;\">\n",
       "      <th></th>\n",
       "      <th>X1</th>\n",
       "      <th>X2</th>\n",
       "      <th>weight X1 1 neuron 1 layer</th>\n",
       "      <th>weight X2 1 neuron 1 layer</th>\n",
       "      <th>weight bias 1 neuron 1 layer</th>\n",
       "      <th>weight X1 2 neuron 1 layer</th>\n",
       "      <th>weight X2 2 neuron 1 layer</th>\n",
       "      <th>weight bias 2 neuron 1 layer</th>\n",
       "      <th>X1 * weight 1 neuron</th>\n",
       "      <th>X2 * weight 1 neuron</th>\n",
       "      <th>X1 * weight 2 neuron</th>\n",
       "      <th>X2 * weight 2 neuron</th>\n",
       "      <th>Value function neuron 1</th>\n",
       "      <th>Value funktion neuron 2</th>\n",
       "      <th>weight 3 neuron</th>\n",
       "      <th>weight bias 2 layer</th>\n",
       "      <th>total value (3 neuron)</th>\n",
       "    </tr>\n",
       "  </thead>\n",
       "  <tbody>\n",
       "    <tr>\n",
       "      <th>0</th>\n",
       "      <td>0</td>\n",
       "      <td>1</td>\n",
       "      <td>-1</td>\n",
       "      <td>-1</td>\n",
       "      <td>0.5</td>\n",
       "      <td>-1.5</td>\n",
       "      <td>1</td>\n",
       "      <td>-1.5</td>\n",
       "      <td>0</td>\n",
       "      <td>-1</td>\n",
       "      <td>0</td>\n",
       "      <td>1</td>\n",
       "      <td>0</td>\n",
       "      <td>0</td>\n",
       "      <td>both 1</td>\n",
       "      <td>-0.5</td>\n",
       "      <td>0</td>\n",
       "    </tr>\n",
       "  </tbody>\n",
       "</table>"
      ],
      "text/plain": [
       "<IPython.core.display.HTML object>"
      ]
     },
     "metadata": {},
     "output_type": "display_data"
    },
    {
     "data": {
      "text/html": [
       "<table border=\"1\" class=\"dataframe\">\n",
       "  <thead>\n",
       "    <tr style=\"text-align: right;\">\n",
       "      <th></th>\n",
       "      <th>X1</th>\n",
       "      <th>X2</th>\n",
       "      <th>weight X1 1 neuron 1 layer</th>\n",
       "      <th>weight X2 1 neuron 1 layer</th>\n",
       "      <th>weight bias 1 neuron 1 layer</th>\n",
       "      <th>weight X1 2 neuron 1 layer</th>\n",
       "      <th>weight X2 2 neuron 1 layer</th>\n",
       "      <th>weight bias 2 neuron 1 layer</th>\n",
       "      <th>X1 * weight 1 neuron</th>\n",
       "      <th>X2 * weight 1 neuron</th>\n",
       "      <th>X1 * weight 2 neuron</th>\n",
       "      <th>X2 * weight 2 neuron</th>\n",
       "      <th>Value function neuron 1</th>\n",
       "      <th>Value funktion neuron 2</th>\n",
       "      <th>weight 3 neuron</th>\n",
       "      <th>weight bias 2 layer</th>\n",
       "      <th>total value (3 neuron)</th>\n",
       "    </tr>\n",
       "  </thead>\n",
       "  <tbody>\n",
       "    <tr>\n",
       "      <th>0</th>\n",
       "      <td>1</td>\n",
       "      <td>0</td>\n",
       "      <td>-1</td>\n",
       "      <td>-1</td>\n",
       "      <td>0.5</td>\n",
       "      <td>-1.5</td>\n",
       "      <td>1</td>\n",
       "      <td>-1.5</td>\n",
       "      <td>-1</td>\n",
       "      <td>0</td>\n",
       "      <td>1</td>\n",
       "      <td>0</td>\n",
       "      <td>0</td>\n",
       "      <td>0</td>\n",
       "      <td>both 1</td>\n",
       "      <td>-0.5</td>\n",
       "      <td>0</td>\n",
       "    </tr>\n",
       "  </tbody>\n",
       "</table>"
      ],
      "text/plain": [
       "<IPython.core.display.HTML object>"
      ]
     },
     "metadata": {},
     "output_type": "display_data"
    },
    {
     "data": {
      "text/html": [
       "<table border=\"1\" class=\"dataframe\">\n",
       "  <thead>\n",
       "    <tr style=\"text-align: right;\">\n",
       "      <th></th>\n",
       "      <th>X1</th>\n",
       "      <th>X2</th>\n",
       "      <th>weight X1 1 neuron 1 layer</th>\n",
       "      <th>weight X2 1 neuron 1 layer</th>\n",
       "      <th>weight bias 1 neuron 1 layer</th>\n",
       "      <th>weight X1 2 neuron 1 layer</th>\n",
       "      <th>weight X2 2 neuron 1 layer</th>\n",
       "      <th>weight bias 2 neuron 1 layer</th>\n",
       "      <th>X1 * weight 1 neuron</th>\n",
       "      <th>X2 * weight 1 neuron</th>\n",
       "      <th>X1 * weight 2 neuron</th>\n",
       "      <th>X2 * weight 2 neuron</th>\n",
       "      <th>Value function neuron 1</th>\n",
       "      <th>Value funktion neuron 2</th>\n",
       "      <th>weight 3 neuron</th>\n",
       "      <th>weight bias 2 layer</th>\n",
       "      <th>total value (3 neuron)</th>\n",
       "    </tr>\n",
       "  </thead>\n",
       "  <tbody>\n",
       "    <tr>\n",
       "      <th>0</th>\n",
       "      <td>1</td>\n",
       "      <td>1</td>\n",
       "      <td>-1</td>\n",
       "      <td>-1</td>\n",
       "      <td>0.5</td>\n",
       "      <td>-1.5</td>\n",
       "      <td>1</td>\n",
       "      <td>-1.5</td>\n",
       "      <td>-1</td>\n",
       "      <td>-1</td>\n",
       "      <td>1</td>\n",
       "      <td>1</td>\n",
       "      <td>0</td>\n",
       "      <td>1</td>\n",
       "      <td>both 1</td>\n",
       "      <td>-0.5</td>\n",
       "      <td>1</td>\n",
       "    </tr>\n",
       "  </tbody>\n",
       "</table>"
      ],
      "text/plain": [
       "<IPython.core.display.HTML object>"
      ]
     },
     "metadata": {},
     "output_type": "display_data"
    }
   ],
   "source": [
    "from IPython.display import display, HTML\n",
    "\n",
    "\n",
    "for input in inputs:\n",
    "    neuron11 = activation_function(1 * 0.5 + input[0] * -1 + input[1] * -1)\n",
    "    neuron12 = activation_function(1 * -1.5 + input[0] * 1 + input[1] * 1)\n",
    "\n",
    "    neuron2 = activation_function(1 * -0.5 + neuron11 + neuron12)\n",
    "    info_xnor = pd.DataFrame(data = {'X1' : input[0], 'X2' : input[1], 'weight X1 1 neuron 1 layer': -1, \n",
    "                                'weight X2 1 neuron 1 layer': -1, 'weight bias 1 neuron 1 layer': 0.5, \n",
    "                                'weight X1 2 neuron 1 layer': -1.5,'weight X2 2 neuron 1 layer': 1, 'weight bias 2 neuron 1 layer': -1.5,\n",
    "                                'X1 * weight 1 neuron': input[0] * -1, 'X2 * weight 1 neuron' : input[1] * -1, \n",
    "                                'X1 * weight 2 neuron': input[0] * 1, 'X2 * weight 2 neuron' : input[1] * 1, \n",
    "                                'Value function neuron 1' : neuron11, 'Value funktion neuron 2': neuron12,\n",
    "                                'weight 3 neuron': 'both 1', 'weight bias 2 layer': -0.5,\n",
    "                                'total value (3 neuron)': neuron2}, index=[0])\n",
    "    display(HTML(info_xnor.to_html()))"
   ]
  },
  {
   "cell_type": "code",
   "execution_count": 20,
   "metadata": {},
   "outputs": [
    {
     "name": "stdout",
     "output_type": "stream",
     "text": [
      "bias weights for the first layer neuron: -10 for the first neuron and 30 for the second\n",
      "weights X1 and X2 for the first neuron of the first layer: 20 and 20\n",
      "weight X1 and X2 for the second neuron of the first layer: -20 and -20\n",
      "Bias weights for the second layer neuron: -30. weight input, both of 20\n",
      "result: 0\n",
      "\n",
      "bias weights for the first layer neuron: -10 for the first neuron and 30 for the second\n",
      "weights X1 and X2 for the first neuron of the first layer: 20 and 20\n",
      "weight X1 and X2 for the second neuron of the first layer: -20 and -20\n",
      "Bias weights for the second layer neuron: -30. weight input, both of 20\n",
      "result: 1\n",
      "\n",
      "bias weights for the first layer neuron: -10 for the first neuron and 30 for the second\n",
      "weights X1 and X2 for the first neuron of the first layer: 20 and 20\n",
      "weight X1 and X2 for the second neuron of the first layer: -20 and -20\n",
      "Bias weights for the second layer neuron: -30. weight input, both of 20\n",
      "result: 1\n",
      "\n",
      "bias weights for the first layer neuron: -10 for the first neuron and 30 for the second\n",
      "weights X1 and X2 for the first neuron of the first layer: 20 and 20\n",
      "weight X1 and X2 for the second neuron of the first layer: -20 and -20\n",
      "Bias weights for the second layer neuron: -30. weight input, both of 20\n",
      "result: 0\n",
      "\n"
     ]
    }
   ],
   "source": [
    "for input in inputs:\n",
    "    X1 = input[0]\n",
    "    X2 = input[1]\n",
    "    \n",
    "    \n",
    "    neuron11 = activation_function(-10 + X1 * 20 + 20 * X2)\n",
    "    neuron12 = activation_function(30 + X1 * -20 + X2 * -20)\n",
    "    neuron2 = activation_function(-30 + neuron11 * 20 + neuron12 * 20)\n",
    "    \n",
    "    \n",
    "    print('bias weights for the first layer neuron: -10 for the first neuron and 30 for the second')\n",
    "    print('weights X1 and X2 for the first neuron of the first layer: 20 and 20')\n",
    "    print('weight X1 and X2 for the second neuron of the first layer: -20 and -20')\n",
    "    print('Bias weights for the second layer neuron: -30. weight input, both of 20')\n",
    "    print('result: ' + str(neuron2) + '\\n')"
   ]
  },
  {
   "cell_type": "code",
   "execution_count": null,
   "metadata": {},
   "outputs": [],
   "source": []
  }
 ],
 "metadata": {
  "kernelspec": {
   "display_name": "Python 3",
   "language": "python",
   "name": "python3"
  },
  "language_info": {
   "codemirror_mode": {
    "name": "ipython",
    "version": 3
   },
   "file_extension": ".py",
   "mimetype": "text/x-python",
   "name": "python",
   "nbconvert_exporter": "python",
   "pygments_lexer": "ipython3",
   "version": "3.7.3"
  }
 },
 "nbformat": 4,
 "nbformat_minor": 2
}
